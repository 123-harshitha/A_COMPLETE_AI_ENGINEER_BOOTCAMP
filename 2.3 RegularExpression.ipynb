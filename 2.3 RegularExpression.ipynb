{
 "cells": [
  {
   "cell_type": "code",
   "execution_count": null,
   "id": "a25b73c4-3aed-4e74-bdd2-95862689cdf4",
   "metadata": {},
   "outputs": [],
   "source": [
    "Regular expressions, or \"regex\" for short, is a special syntax for searching for strings that meets a specified pattern. It's a great tool to filter and sort through text when you want to match patterns rather than a hard coded string or strings.\n"
   ]
  },
  {
   "cell_type": "code",
   "execution_count": 1,
   "id": "0ffa51de-1188-48d7-aa67-2e9df1a0b70d",
   "metadata": {},
   "outputs": [],
   "source": [
    "import re"
   ]
  },
  {
   "cell_type": "code",
   "execution_count": null,
   "id": "5dfb1807-bfe7-426f-89e5-d2e08d75ced1",
   "metadata": {},
   "outputs": [],
   "source": [
    "Raw Strings\n",
    "Python recognises certain characters to have a special meaning, for example, \\n in python is used to indicate a new line. However, sometimes these codes that python recognises to have certain meanings appear in our strings and we want to tell python that a \\n in our text is a literal \\n, rather than meaning a new line.\n",
    "\n",
    "We can use the 'r' character before strings to indicate to python that our text is what is known as a \"raw string\"."
   ]
  },
  {
   "cell_type": "code",
   "execution_count": null,
   "id": "5bd9dfd8-68ee-4a4d-aa04-e623f0debb4e",
   "metadata": {},
   "outputs": [],
   "source": [
    "#print the text without the raw string indicator\n",
    "my_folder = \"C:\\\\desktop\\notes\n",
    "print(my_folder)"
   ]
  },
  {
   "cell_type": "code",
   "execution_count": null,
   "id": "bbf4e5b8-bd1f-46c8-934a-9f1442cf746e",
   "metadata": {},
   "outputs": [],
   "source": [
    "C:\\desktop\n",
    "otes\n",
    "See how the python interprets the \\n to mean a new line! Now let's try it as a raw string."
   ]
  },
  {
   "cell_type": "code",
   "execution_count": 4,
   "id": "4a668127-7b31-4fc4-b4c0-90230bc6d91a",
   "metadata": {},
   "outputs": [
    {
     "name": "stdout",
     "output_type": "stream",
     "text": [
      "C:\\desktop\\notes\n"
     ]
    }
   ],
   "source": [
    "#include the raw string indicator\n",
    "\n",
    "my_folder = r\"C:\\desktop\\notes\"\n",
    "print(my_folder)"
   ]
  },
  {
   "cell_type": "code",
   "execution_count": null,
   "id": "4e7dfc77-5aae-4f38-9513-d34679476280",
   "metadata": {},
   "outputs": [],
   "source": [
    "re.search\n",
    "re.search is a function which allows us to check if a certain pattern is in a string. It uses the logic re.search(\"pattern to find\", \"string to find it in\"). It will return the pattern if it is found in the string, or else it will return None if the pattern is not found."
   ]
  },
  {
   "cell_type": "code",
   "execution_count": 7,
   "id": "4b420f2e-3aa5-4bed-8f55-dad5c89bc515",
   "metadata": {},
   "outputs": [
    {
     "name": "stdout",
     "output_type": "stream",
     "text": [
      "<re.Match object; span=(22, 29), match='pattern'>\n"
     ]
    }
   ],
   "source": [
    "result_search = re.search(\"pattern\" , r\"string containing the pattern\")\n",
    "print(result_search)"
   ]
  },
  {
   "cell_type": "code",
   "execution_count": 8,
   "id": "258a1fe3-a52e-4ace-ad62-b15d9c90d10c",
   "metadata": {},
   "outputs": [
    {
     "name": "stdout",
     "output_type": "stream",
     "text": [
      "None\n"
     ]
    }
   ],
   "source": [
    "result_search = re.search(\"harshitha\" , r\"string containing the pattern\")\n",
    "print(result_search)"
   ]
  },
  {
   "cell_type": "code",
   "execution_count": null,
   "id": "32b3f2f3-6b26-444b-b71c-bd9032323d9a",
   "metadata": {},
   "outputs": [],
   "source": [
    "re.sub()\n",
    "\n",
    "re.sub allows us to find certain text and replace it. It uses the logic re.sub(\"pattern to find\", \"replacement text\", \"string\")."
   ]
  },
  {
   "cell_type": "code",
   "execution_count": 11,
   "id": "131f5659-6575-456e-bfa1-4d4b41be286a",
   "metadata": {},
   "outputs": [
    {
     "name": "stdout",
     "output_type": "stream",
     "text": [
      "sarah was able to help me to find the items i needed quickly\n"
     ]
    }
   ],
   "source": [
    "string1 = r\"sara was able to help me to find the items i needed quickly\"\n",
    "\n",
    "new_string = re.sub( r\"sara\" , r\"sarah\" , string)\n",
    "print(new_string)"
   ]
  },
  {
   "cell_type": "code",
   "execution_count": 12,
   "id": "13574188-ab5c-4de1-b347-66760a904506",
   "metadata": {},
   "outputs": [],
   "source": [
    "# Regex Syntax\n",
    "\n",
    "\n",
    "\n",
    "customer_reviews = ['sam was a great help to me in the store', \n",
    "                    'the cashier was very rude to me, I think her name was eleanor', \n",
    "                    'amazing work from sadeen!', \n",
    "                    'sarah was able to help me find the items i needed quickly', \n",
    "                    'lucy is such a great addition to the team', \n",
    "                    'great service from sara she found me what i wanted'\n",
    "                   ]\n",
    "\n"
   ]
  },
  {
   "cell_type": "code",
   "execution_count": 13,
   "id": "98f0fa8d-ddcf-4486-af49-e38753300a3d",
   "metadata": {},
   "outputs": [],
   "source": [
    "sarahs_reviews = []\n",
    "pattern_to_find = r\"sarah?\""
   ]
  },
  {
   "cell_type": "code",
   "execution_count": 14,
   "id": "086f2d92-1e88-4efd-8b4b-382d25099b7a",
   "metadata": {},
   "outputs": [],
   "source": [
    "for string in customer_reviews:\n",
    "    if(re.search(pattern_to_find , string)):\n",
    "        sarahs_reviews.append(string)"
   ]
  },
  {
   "cell_type": "code",
   "execution_count": 16,
   "id": "8e68dde1-2aa2-4cc1-a39c-f262921feb87",
   "metadata": {},
   "outputs": [
    {
     "name": "stdout",
     "output_type": "stream",
     "text": [
      "['sarah was able to help me find the items i needed quickly', 'great service from sara she found me what i wanted']\n"
     ]
    }
   ],
   "source": [
    "print(sarahs_reviews)"
   ]
  },
  {
   "cell_type": "code",
   "execution_count": 21,
   "id": "4d94c09c-8939-4771-bbbb-6c4aefe36e94",
   "metadata": {},
   "outputs": [],
   "source": [
    "# the ^ operator to indicates the start of a string\n",
    "\n",
    "a_reviews = []\n",
    "pattern_to_find = r\"^a\"\n",
    "\n"
   ]
  },
  {
   "cell_type": "code",
   "execution_count": 24,
   "id": "0232e78d-60cf-40a6-b74c-1b2ad22cdfe4",
   "metadata": {},
   "outputs": [],
   "source": [
    "for string in customer_reviews:\n",
    "    if(re.search(pattern_to_find , string)):\n",
    "        a_reviews.append(string)"
   ]
  },
  {
   "cell_type": "code",
   "execution_count": 25,
   "id": "06296fc5-b704-42cb-811f-4bdc35963745",
   "metadata": {},
   "outputs": [
    {
     "name": "stdout",
     "output_type": "stream",
     "text": [
      "['amazing work from sadeen!', 'amazing work from sadeen!']\n"
     ]
    }
   ],
   "source": [
    "print(a_reviews)"
   ]
  },
  {
   "cell_type": "code",
   "execution_count": 26,
   "id": "df50872c-9255-4aaf-8f60-cc256302eaaf",
   "metadata": {},
   "outputs": [],
   "source": [
    "y_reviews = []\n",
    "pattern_to_find = r\"y$\"   # the $ operator indicate the end of the string\n"
   ]
  },
  {
   "cell_type": "code",
   "execution_count": 27,
   "id": "b842e36f-798e-4e1f-b0b1-dfd182183079",
   "metadata": {},
   "outputs": [],
   "source": [
    "for string in customer_reviews:\n",
    "    if(re.search(pattern_to_find, string)):\n",
    "        y_reviews.append(string)"
   ]
  },
  {
   "cell_type": "code",
   "execution_count": 28,
   "id": "86cbd8e5-15ee-4fa7-8871-db32933bc1d4",
   "metadata": {},
   "outputs": [
    {
     "name": "stdout",
     "output_type": "stream",
     "text": [
      "['sarah was able to help me find the items i needed quickly']\n"
     ]
    }
   ],
   "source": [
    "print(y_reviews)"
   ]
  },
  {
   "cell_type": "code",
   "execution_count": null,
   "id": "152acda8-732d-4fe6-afda-216f2119f8ab",
   "metadata": {},
   "outputs": [],
   "source": [
    "Find reviews that contain the words needed or wanted"
   ]
  },
  {
   "cell_type": "code",
   "execution_count": 29,
   "id": "e20081ca-92f2-4e41-9e87-89793e4b67d3",
   "metadata": {},
   "outputs": [],
   "source": [
    "needwant_reviews = []\n",
    "pattern_to_find = r\"(need|want)ed\"  # pipe operator | can be used to mean OR\n"
   ]
  },
  {
   "cell_type": "code",
   "execution_count": 31,
   "id": "48d9430e-3c05-4527-a292-d2eae4ceb624",
   "metadata": {},
   "outputs": [],
   "source": [
    "for string in customer_reviews:\n",
    "    if(re.search(pattern_to_find ,string)):\n",
    "        needwant_reviews.append(string)"
   ]
  },
  {
   "cell_type": "code",
   "execution_count": 32,
   "id": "9d1378ad-6163-4af1-b988-789adfc8307c",
   "metadata": {},
   "outputs": [
    {
     "name": "stdout",
     "output_type": "stream",
     "text": [
      "['sarah was able to help me find the items i needed quickly', 'great service from sara she found me what i wanted']\n"
     ]
    }
   ],
   "source": [
    "print(needwant_reviews)\n"
   ]
  },
  {
   "cell_type": "code",
   "execution_count": null,
   "id": "75a36a97-c76d-4e49-970c-8fd3829170a1",
   "metadata": {},
   "outputs": [],
   "source": [
    "# Remove anything from the review that isn't a word or a space (i.e. remove punctuation)\n",
    "\n",
    "\n",
    "no_punct_reviews = []\n",
    "pattern_to_find = r\"[^\\w\\s]\"\n"
   ]
  }
 ],
 "metadata": {
  "kernelspec": {
   "display_name": "Python 3 (ipykernel)",
   "language": "python",
   "name": "python3"
  },
  "language_info": {
   "codemirror_mode": {
    "name": "ipython",
    "version": 3
   },
   "file_extension": ".py",
   "mimetype": "text/x-python",
   "name": "python",
   "nbconvert_exporter": "python",
   "pygments_lexer": "ipython3",
   "version": "3.12.7"
  }
 },
 "nbformat": 4,
 "nbformat_minor": 5
}
